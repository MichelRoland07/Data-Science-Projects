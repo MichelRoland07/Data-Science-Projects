{
 "cells": [
  {
   "cell_type": "code",
   "execution_count": 19,
   "metadata": {},
   "outputs": [],
   "source": [
    "import numpy as np \n",
    "import pandas as pd \n",
    "import matplotlib.pyplot as plt\n",
    "import seaborn as sns\n",
    "from statsmodels.stats.proportion import proportions_ztest\n",
    "from scipy.stats import ttest_ind, chisquare\n",
    "import warnings\n",
    "warnings.filterwarnings('ignore')"
   ]
  },
  {
   "cell_type": "markdown",
   "metadata": {},
   "source": [
    "An e-commerce company has launched a new web page aimed at increasing user conversions, i.e., the number of visitors who choose to purchase the company's product. Our objective is to analyze the results of an A/B test conducted on the website and provide recommendations based on the findings.\n",
    "\n",
    "\n",
    "## Treatment Group vs. Control Group in A/B Testing  \n",
    "\n",
    "In **A/B testing**, users are randomly assigned to one of two groups:  \n",
    "\n",
    "- **Control Group** 🟢: Sees the **current version** of a webpage, app, or feature. It serves as a **reference point**.  \n",
    "- **Treatment Group** 🔵: Sees the **new version**, which includes a change the company wants to evaluate.  \n",
    "\n",
    "### Example Dataset  \n",
    "\n",
    "| id      | con_treat  | page      | converted |\n",
    "|---------|-----------|-----------|-----------|\n",
    "| 851104  | control   | old_page  | 0         |\n",
    "| 804228  | control   | old_page  | 0         |\n",
    "| 661590  | treatment | new_page  | 0         |\n",
    "| 853541  | treatment | new_page  | 0         |\n",
    "| 864975  | control   | old_page  | 1         |\n",
    "\n",
    "- **Control Group (`control`)** → sees the **old page** (`old_page`).  \n",
    "- **Treatment Group (`treatment`)** → sees the **new page** (`new_page`).  \n",
    "- **Column `converted`**: Indicates whether a user made a purchase (`1 = conversion`, `0 = no conversion`).  \n",
    "\n",
    "### Goal of A/B Testing  \n",
    "Compare conversion rates between the two groups:  \n",
    "- If the **new page** leads to **higher conversions**, it may be adopted.  \n",
    "- If the **difference is small** or the new page **performs worse**, the old version should be kept.  \n"
   ]
  },
  {
   "cell_type": "code",
   "execution_count": 20,
   "metadata": {},
   "outputs": [],
   "source": [
    "# importing data\n",
    "abtest = pd.read_csv('ab_test.csv')\n",
    "country_test=pd.read_csv('countries_ab.csv')"
   ]
  },
  {
   "cell_type": "code",
   "execution_count": 21,
   "metadata": {},
   "outputs": [
    {
     "name": "stdout",
     "output_type": "stream",
     "text": [
      "       id     time  con_treat      page  converted\n",
      "0  851104  11:48.6    control  old_page          0\n",
      "1  804228  01:45.2    control  old_page          0\n",
      "2  661590  55:06.2  treatment  new_page          0\n",
      "3  853541  28:03.1  treatment  new_page          0\n",
      "4  864975  52:26.2    control  old_page          1\n",
      "\n",
      "\n",
      "<class 'pandas.core.frame.DataFrame'>\n",
      "RangeIndex: 294478 entries, 0 to 294477\n",
      "Data columns (total 5 columns):\n",
      " #   Column     Non-Null Count   Dtype \n",
      "---  ------     --------------   ----- \n",
      " 0   id         294478 non-null  int64 \n",
      " 1   time       294478 non-null  object\n",
      " 2   con_treat  294478 non-null  object\n",
      " 3   page       294478 non-null  object\n",
      " 4   converted  294478 non-null  int64 \n",
      "dtypes: int64(2), object(3)\n",
      "memory usage: 11.2+ MB\n",
      "None\n"
     ]
    }
   ],
   "source": [
    "# overview and check for null values of abtest data\n",
    "print(abtest.head())\n",
    "print('\\n')\n",
    "print(abtest.info())"
   ]
  },
  {
   "cell_type": "code",
   "execution_count": 22,
   "metadata": {},
   "outputs": [
    {
     "name": "stdout",
     "output_type": "stream",
     "text": [
      "            id                    time  con_treat      page  converted\n",
      "0       851104 1900-01-01 00:11:48.600    control  old_page          0\n",
      "1       804228 1900-01-01 00:01:45.200    control  old_page          0\n",
      "2       661590 1900-01-01 00:55:06.200  treatment  new_page          0\n",
      "3       853541 1900-01-01 00:28:03.100  treatment  new_page          0\n",
      "4       864975 1900-01-01 00:52:26.200    control  old_page          1\n",
      "...        ...                     ...        ...       ...        ...\n",
      "294473  751197 1900-01-01 00:28:38.600    control  old_page          0\n",
      "294474  945152 1900-01-01 00:51:57.100    control  old_page          0\n",
      "294475  734608 1900-01-01 00:45:03.400    control  old_page          0\n",
      "294476  697314 1900-01-01 00:20:29.000    control  old_page          0\n",
      "294477  715931 1900-01-01 00:40:24.500  treatment  new_page          0\n",
      "\n",
      "[294478 rows x 5 columns]\n",
      "id                    int64\n",
      "time         datetime64[ns]\n",
      "con_treat            object\n",
      "page                 object\n",
      "converted             int64\n",
      "dtype: object\n"
     ]
    }
   ],
   "source": [
    "# convert time to a datetime object\n",
    "\n",
    "abtest['time'] = pd.to_datetime(abtest['time'],format='%M:%S.%f')\n",
    "\n",
    "print(abtest)\n",
    "print(abtest.dtypes)"
   ]
  },
  {
   "cell_type": "code",
   "execution_count": 24,
   "metadata": {},
   "outputs": [
    {
     "name": "stdout",
     "output_type": "stream",
     "text": [
      "page\n",
      "old_page    0.5\n",
      "new_page    0.5\n",
      "Name: proportion, dtype: float64\n"
     ]
    }
   ],
   "source": [
    "# check the proportion of old_page and new_page categories in 'page' column\n",
    "print(abtest['page'].value_counts(normalize=True))\n"
   ]
  },
  {
   "cell_type": "code",
   "execution_count": null,
   "metadata": {},
   "outputs": [
    {
     "name": "stdout",
     "output_type": "stream",
     "text": [
      "con_treat\n",
      "treatment    0.500126\n",
      "control      0.499874\n",
      "Name: proportion, dtype: float64\n"
     ]
    }
   ],
   "source": [
    "# check the proportion of control and treatment categories in 'con_treat' column - it's not even\n",
    "print(abtest['con_treat'].value_counts(normalize=True))\n"
   ]
  },
  {
   "cell_type": "code",
   "execution_count": 27,
   "metadata": {},
   "outputs": [
    {
     "data": {
      "text/plain": [
       "page      con_treat\n",
       "new_page  treatment    0.986906\n",
       "          control      0.013094\n",
       "old_page  control      0.986654\n",
       "          treatment    0.013346\n",
       "Name: proportion, dtype: float64"
      ]
     },
     "execution_count": 27,
     "metadata": {},
     "output_type": "execute_result"
    }
   ],
   "source": [
    "# check the proportion of group categories who experienced new_page or old_page.\n",
    "abtest.groupby('page')['con_treat'].value_counts(normalize=True)"
   ]
  },
  {
   "cell_type": "markdown",
   "metadata": {},
   "source": [
    "Just 1% of control group has seen the new_page while 1% of treatement group has seen old_page"
   ]
  },
  {
   "cell_type": "code",
   "execution_count": 28,
   "metadata": {},
   "outputs": [
    {
     "name": "stdout",
     "output_type": "stream",
     "text": [
      "3894\n"
     ]
    }
   ],
   "source": [
    "# check the unicity of the customers\n",
    "all_id_vals = len(abtest['id'])\n",
    "uniq_id_vals = abtest['id'].nunique()\n",
    "nonuniq_id_vals = all_id_vals - uniq_id_vals\n",
    "print(nonuniq_id_vals)\n"
   ]
  },
  {
   "cell_type": "markdown",
   "metadata": {},
   "source": [
    "there is 3894 users which belong to the two group."
   ]
  },
  {
   "cell_type": "code",
   "execution_count": 29,
   "metadata": {},
   "outputs": [
    {
     "name": "stdout",
     "output_type": "stream",
     "text": [
      "          id                    time  con_treat      page  converted\n",
      "6051  630052 1900-01-01 00:16:05.200  treatment  new_page          0\n",
      "5597  630052 1900-01-01 00:25:54.100  treatment  old_page          1\n",
      "591   630126 1900-01-01 00:35:54.800  treatment  old_page          0\n",
      "6610  630126 1900-01-01 00:16:00.300  treatment  new_page          0\n",
      "4843  630137 1900-01-01 00:08:49.900    control  old_page          0\n",
      "322   630137 1900-01-01 00:59:22.100    control  new_page          0\n",
      "5439  630320 1900-01-01 00:02:43.600    control  old_page          0\n",
      "6718  630320 1900-01-01 00:27:37.200  treatment  old_page          0\n",
      "2524  630471 1900-01-01 00:14:17.400    control  new_page          0\n",
      "2920  630471 1900-01-01 00:42:51.500    control  old_page          0\n"
     ]
    }
   ],
   "source": [
    "# select duplicated ids rows in another df\n",
    "duplic_ids = abtest[abtest.duplicated(subset='id', keep=False)].reset_index(drop=True)\n",
    "print(duplic_ids.sort_values(by=['id']).head(10))"
   ]
  },
  {
   "cell_type": "markdown",
   "metadata": {},
   "source": [
    "we grouped the duplicated ids by ids. and we observe that there were users that were experienced both the old and the  new pages. We need two independent groups to avoid biases due to contamination."
   ]
  },
  {
   "cell_type": "code",
   "execution_count": 30,
   "metadata": {},
   "outputs": [],
   "source": [
    "# drop duplicates from 'id' column\n",
    "abtestunique = abtest.drop_duplicates(subset='id', keep=False)"
   ]
  },
  {
   "cell_type": "code",
   "execution_count": 31,
   "metadata": {},
   "outputs": [
    {
     "data": {
      "text/plain": [
       "con_treat  page    \n",
       "control    old_page    1.0\n",
       "treatment  new_page    1.0\n",
       "Name: proportion, dtype: float64"
      ]
     },
     "execution_count": 31,
     "metadata": {},
     "output_type": "execute_result"
    }
   ],
   "source": [
    "# check the proportion for control - old_page and treatment - new_page categories after dropping duplicates\n",
    "abtestunique.groupby('con_treat')['page'].value_counts(normalize=True)"
   ]
  },
  {
   "cell_type": "code",
   "execution_count": 32,
   "metadata": {},
   "outputs": [
    {
     "data": {
      "text/plain": [
       "con_treat\n",
       "treatment    143397\n",
       "control      143293\n",
       "Name: count, dtype: int64"
      ]
     },
     "execution_count": 32,
     "metadata": {},
     "output_type": "execute_result"
    }
   ],
   "source": [
    "# check the proportion of control\\treatment groups\n",
    "abtestunique['con_treat'].value_counts()"
   ]
  },
  {
   "cell_type": "code",
   "execution_count": 33,
   "metadata": {},
   "outputs": [
    {
     "data": {
      "text/plain": [
       "Power_divergenceResult(statistic=0.037727161742648854, pvalue=0.8459920267710567)"
      ]
     },
     "execution_count": 33,
     "metadata": {},
     "output_type": "execute_result"
    }
   ],
   "source": [
    "# conduct chi-square goodness of fit test to exclude SRM.\n",
    "chisquare(f_obs=[143397,143293], f_exp=[(143397+143293)/2,(143397+143293)/2])\n"
   ]
  },
  {
   "cell_type": "markdown",
   "metadata": {},
   "source": [
    "since 0.85 > 0.05 we can conclude by using the chi_square goodness of fit that there is a good repartition of the users among the two groups (50/50). "
   ]
  },
  {
   "cell_type": "markdown",
   "metadata": {},
   "source": [
    "## II. Analysis of cleaned data"
   ]
  },
  {
   "cell_type": "code",
   "execution_count": 34,
   "metadata": {},
   "outputs": [
    {
     "data": {
      "text/plain": [
       "converted  con_treat\n",
       "0          treatment    126372\n",
       "           control      126073\n",
       "1          control       17220\n",
       "           treatment     17025\n",
       "Name: count, dtype: int64"
      ]
     },
     "execution_count": 34,
     "metadata": {},
     "output_type": "execute_result"
    }
   ],
   "source": [
    "# looking for counts of conversions in groups\n",
    "abtestunique.groupby('converted')['con_treat'].value_counts()"
   ]
  },
  {
   "cell_type": "markdown",
   "metadata": {},
   "source": [
    "the control group make more conversion that the treatment group"
   ]
  },
  {
   "cell_type": "code",
   "execution_count": 35,
   "metadata": {},
   "outputs": [
    {
     "data": {
      "image/png": "[encoded data removed]",
      "text/plain": [
       "<Figure size 640x480 with 1 Axes>"
      ]
     },
     "metadata": {},
     "output_type": "display_data"
    }
   ],
   "source": [
    "# making a histogram to compare converted\\non-converted between groups\n",
    "sns.histplot(data=abtestunique, x='con_treat', hue='converted', multiple='stack')\n",
    "plt.xlabel('Group')\n",
    "plt.legend(['Yes', 'No'], title='Converted')\n",
    "plt.show()"
   ]
  },
  {
   "cell_type": "code",
   "execution_count": 36,
   "metadata": {},
   "outputs": [
    {
     "name": "stdout",
     "output_type": "stream",
     "text": [
      "Conversion rate of control group is 0.12\n",
      "Conversion rate of treatment group is 0.119\n"
     ]
    }
   ],
   "source": [
    "# comparing conv. rates between groups and calculating % of difference between them\n",
    "control = abtestunique[abtestunique['con_treat'] == 'control']['converted']\n",
    "treatment = abtestunique[abtestunique['con_treat'] == 'treatment']['converted']\n",
    "\n",
    "control_conv = np.mean(control)\n",
    "treatment_conv = np.mean(treatment)\n",
    "\n",
    "print(f'Conversion rate of control group is {round(control_conv,3)}')\n",
    "print(f'Conversion rate of treatment group is {round(treatment_conv,3)}')\n"
   ]
  },
  {
   "cell_type": "markdown",
   "metadata": {},
   "source": [
    "The calculation shows that the conversion rate of the two groups is almost identical. Now, we need to check the **statistical significance**.  \n",
    "\n",
    "- **Null Hypothesis (H₀):** There is no significant difference in conversion rate between the two groups.  \n",
    "- **Alternative Hypothesis (H₁):** The conversion rate of the treatment group is higher or lower (two-sided).  \n",
    "- **Significance Level (α):** 0.05.  "
   ]
  },
  {
   "cell_type": "code",
   "execution_count": 37,
   "metadata": {},
   "outputs": [
    {
     "data": {
      "text/plain": [
       "TtestResult(statistic=1.1944838871517813, pvalue=0.23228972812920373, df=286688.0)"
      ]
     },
     "execution_count": 37,
     "metadata": {},
     "output_type": "execute_result"
    }
   ],
   "source": [
    "# check p_value for difference in groups with ttest_ind\n",
    "ttest_ind(control, treatment)"
   ]
  },
  {
   "cell_type": "code",
   "execution_count": 39,
   "metadata": {},
   "outputs": [
    {
     "name": "stdout",
     "output_type": "stream",
     "text": [
      "1.1944850812796501 0.23228827305833621\n"
     ]
    }
   ],
   "source": [
    "# check p_value for difference in converted between two groups in abtestunique with proportions ztest \n",
    "# (alternative two-sided)\n",
    "stat, p_value = proportions_ztest(count=[17220, 17025], nobs=[17220+126073, 17025+126372])\n",
    "print(stat, p_value)"
   ]
  },
  {
   "cell_type": "markdown",
   "metadata": {},
   "source": [
    "Since **0.23 > 0.05**, we **fail to reject the null hypothesis**, meaning there is **no statistically significant difference** between the two groups.  \n",
    "\n",
    "- Both the **T-test** and **Proportions Z-test** confirmed that we cannot reject the null hypothesis.  \n",
    "- **Conclusion:** There is no significant difference in conversion rates between the two groups.  \n",
    "\n",
    "Next, let’s analyze the conversion rates **by country** to check for variations across different regions.  "
   ]
  },
  {
   "cell_type": "code",
   "execution_count": 40,
   "metadata": {},
   "outputs": [
    {
     "name": "stdout",
     "output_type": "stream",
     "text": [
      "       id country\n",
      "0  834778      UK\n",
      "1  928468      US\n",
      "2  822059      UK\n",
      "3  711597      UK\n",
      "4  710616      UK\n",
      "5  909908      UK\n",
      "\n",
      "\n",
      "<class 'pandas.core.frame.DataFrame'>\n",
      "RangeIndex: 290584 entries, 0 to 290583\n",
      "Data columns (total 2 columns):\n",
      " #   Column   Non-Null Count   Dtype \n",
      "---  ------   --------------   ----- \n",
      " 0   id       290584 non-null  int64 \n",
      " 1   country  290584 non-null  object\n",
      "dtypes: int64(1), object(1)\n",
      "memory usage: 4.4+ MB\n",
      "None\n"
     ]
    }
   ],
   "source": [
    "print(country_test.head(6))\n",
    "print('\\n')\n",
    "print(country_test.info())"
   ]
  },
  {
   "cell_type": "code",
   "execution_count": 41,
   "metadata": {},
   "outputs": [
    {
     "data": {
      "text/plain": [
       "country\n",
       "US    0.700723\n",
       "UK    0.249381\n",
       "CA    0.049896\n",
       "Name: proportion, dtype: float64"
      ]
     },
     "execution_count": 41,
     "metadata": {},
     "output_type": "execute_result"
    }
   ],
   "source": [
    "# look at the proportion of values in country groups\n",
    "country_test['country'].value_counts(normalize=True)"
   ]
  },
  {
   "cell_type": "code",
   "execution_count": 42,
   "metadata": {},
   "outputs": [],
   "source": [
    "# merging abtestunique and countries data\n",
    "abtestunco = abtestunique.merge(country_test, on='id', how='left')\n"
   ]
  },
  {
   "cell_type": "code",
   "execution_count": 26,
   "metadata": {},
   "outputs": [
    {
     "data": {
      "text/plain": [
       "country  con_treat  converted\n",
       "CA       control    0             6250\n",
       "                    1              844\n",
       "         treatment  0             6399\n",
       "                    1              810\n",
       "UK       control    0            31588\n",
       "                    1             4295\n",
       "         treatment  0            31313\n",
       "                    1             4317\n",
       "US       control    0            88235\n",
       "                    1            12081\n",
       "         treatment  0            88660\n",
       "                    1            11898\n",
       "Name: count, dtype: int64"
      ]
     },
     "execution_count": 26,
     "metadata": {},
     "output_type": "execute_result"
    }
   ],
   "source": [
    "# looking at values of converted distributed by countries and groups\n",
    "abtestunco.groupby(['country', 'con_treat'])['converted'].value_counts()"
   ]
  },
  {
   "cell_type": "code",
   "execution_count": 43,
   "metadata": {},
   "outputs": [
    {
     "data": {
      "image/png": "[encoded data removed]",
      "text/plain": [
       "<Figure size 640x480 with 1 Axes>"
      ]
     },
     "metadata": {},
     "output_type": "display_data"
    }
   ],
   "source": [
    "# plotting converted\\non-cnverted by countries\\groups\n",
    "ab = abtestunco.groupby(['country', 'con_treat'])['converted'].value_counts()\n",
    "abdf = pd.DataFrame(ab)\n",
    "abdf.rename(columns={'converted':'number'}, inplace=True)\n",
    "abdf = abdf.unstack()\n",
    "abdf.plot(kind='bar')\n",
    "plt.legend(['Yes', 'No'], title='Converted')\n",
    "plt.xlabel('Country\\group')\n",
    "plt.show()\n"
   ]
  },
  {
   "cell_type": "code",
   "execution_count": null,
   "metadata": {},
   "outputs": [
    {
     "name": "stdout",
     "output_type": "stream",
     "text": [
      "Z-statistic: 1.2367\n",
      "P-value: 0.2162\n",
      "Result: No statistically significant difference (fail to reject null hypothesis)\n"
     ]
    }
   ],
   "source": [
    "# Check p-value for difference in conversion rates between two groups (Canada)\n",
    "\n",
    "converted = [844, 810]       # Number of conversions in each group\n",
    "observations = [844+6250, 810+6399]  # Total observations in each group\n",
    "\n",
    "# Perform two-proportion z-test\n",
    "# Alternative hypothesis: two-sided (conversion rates are not equal)\n",
    "z_stat, p_value = proportions_ztest(count=converted, nobs=observations, alternative='two-sided')\n",
    "\n",
    "# Print results with interpretation\n",
    "print(f\"Z-statistic: {z_stat:.4f}\")\n",
    "print(f\"P-value: {p_value:.4f}\")\n",
    "\n",
    "if p_value < 0.05:\n",
    "    print(\"Result: Statistically significant difference (reject null hypothesis)\")\n",
    "else:\n",
    "    print(\"Result: No statistically significant difference (fail to reject null hypothesis)\")\n",
    "\n"
   ]
  },
  {
   "cell_type": "code",
   "execution_count": null,
   "metadata": {},
   "outputs": [
    {
     "name": "stdout",
     "output_type": "stream",
     "text": [
      "Z-statistic: -0.6028\n",
      "P-value: 0.5466\n",
      "Result: No statistically significant difference (fail to reject null hypothesis)\n"
     ]
    }
   ],
   "source": [
    "# check p_value for difference in converted between two groups for UK\n",
    "\n",
    "converted = [4295, 4317]       # Number of conversions in each group\n",
    "observations = [4295+31588, 4317+31313]  # Total observations in each group\n",
    "\n",
    "# Perform two-proportion z-test\n",
    "# Alternative hypothesis: two-sided (conversion rates are not equal)\n",
    "z_stat, p_value = proportions_ztest(count=converted, nobs=observations, alternative='two-sided')\n",
    "\n",
    "# Print results with interpretation\n",
    "print(f\"Z-statistic: {z_stat:.4f}\")\n",
    "print(f\"P-value: {p_value:.4f}\")\n",
    "\n",
    "if p_value < 0.05:\n",
    "    print(\"Result: Statistically significant difference (reject null hypothesis)\")\n",
    "else:\n",
    "    print(\"Result: No statistically significant difference (fail to reject null hypothesis)\")\n",
    "\n",
    "\n"
   ]
  },
  {
   "cell_type": "code",
   "execution_count": 49,
   "metadata": {},
   "outputs": [
    {
     "name": "stdout",
     "output_type": "stream",
     "text": [
      "Z-statistic: 1.4581\n",
      "P-value: 0.1448\n",
      "Result: No statistically significant difference (fail to reject null hypothesis)\n"
     ]
    }
   ],
   "source": [
    "# check p_value for difference in converted between two groups for US\n",
    "\n",
    "converted = [12081, 11898]       # Number of conversions in each group\n",
    "observations = [12081+88235, 11898+88660] # Total observations in each group\n",
    "\n",
    "# Perform two-proportion z-test\n",
    "# Alternative hypothesis: two-sided (conversion rates are not equal)\n",
    "z_stat, p_value = proportions_ztest(count=converted, nobs=observations, alternative='two-sided')\n",
    "\n",
    "# Print results with interpretation\n",
    "print(f\"Z-statistic: {z_stat:.4f}\")\n",
    "print(f\"P-value: {p_value:.4f}\")\n",
    "\n",
    "if p_value < 0.05:\n",
    "    print(\"Result: Statistically significant difference (reject null hypothesis)\")\n",
    "else:\n",
    "    print(\"Result: No statistically significant difference (fail to reject null hypothesis)\")\n",
    "\n"
   ]
  },
  {
   "cell_type": "markdown",
   "metadata": {},
   "source": [
    "### Summary of Conversion Rate Comparisons (Two-Proportion Z-Test)\n",
    "\n",
    "| Country | Z-Statistic | P-Value   | Conclusion                                  |\n",
    "|---------|-------------|-----------|---------------------------------------------|\n",
    "| Canada  | 1.24        | 0.2162    | No significant difference (p > 0.05)        |\n",
    "| UK      | -0.60       | 0.5466    | No significant difference (p > 0.05)        |\n",
    "| US      | 1.46        | 0.1448    | No significant difference (p > 0.05)        |\n",
    "\n",
    "**Key Findings:**\n",
    "- **No statistically significant differences** in conversion rates between groups were found in any of the three countries (all p-values > 0.05).\n",
    "- The strongest (but still non-significant) trend was observed in the **US** (Z = 1.46, p = 0.14), where the treatment group showed a slightly higher conversion rate.\n",
    "- The UK had the weakest effect (Z = -0.60), with a p-value of 0.55 indicating essentially no difference."
   ]
  },
  {
   "cell_type": "markdown",
   "metadata": {},
   "source": [
    "## III. Conclusion  \n",
    "\n",
    "### A/B Test Results Summary  \n",
    "- **Overall Comparison:** No statistically significant difference in conversion rates between groups (p > 0.05).  \n",
    "- **Country-Level Analysis:** Consistent results across Canada, UK, and US (all p-values > 0.05).  \n",
    "\n",
    "### Recommendation  \n",
    "✅ **Retain the original landing page**, as the test did not demonstrate a meaningful improvement from the proposed changes.  \n",
    "\n",
    "### Key Implications  \n",
    "1. **Resource Allocation:** Avoid unnecessary development costs for implementing changes with unproven impact.  \n",
    "2. **Future Testing:** Consider testing alternative variations or segmenting by user behavior if further optimization is needed.  "
   ]
  },
  {
   "cell_type": "markdown",
   "metadata": {},
   "source": []
  }
 ],
 "metadata": {
  "kernelspec": {
   "display_name": "base",
   "language": "python",
   "name": "python3"
  },
  "language_info": {
   "codemirror_mode": {
    "name": "ipython",
    "version": 3
   },
   "file_extension": ".py",
   "mimetype": "text/x-python",
   "name": "python",
   "nbconvert_exporter": "python",
   "pygments_lexer": "ipython3",
   "version": "3.11.5"
  }
 },
 "nbformat": 4,
 "nbformat_minor": 2
}
